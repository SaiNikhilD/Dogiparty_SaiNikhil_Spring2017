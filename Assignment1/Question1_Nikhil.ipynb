{
 "cells": [
  {
   "cell_type": "markdown",
   "metadata": {},
   "source": [
    "# Question 4\n",
    "\n",
    "Under package Gutenberg, see what files are in it.\n",
    "Find out how many words and how many unique words in file 'austen-persuasion.txt'.\n",
    "Calculate the frequency for each words and show the top 10 most frequent words and their frequency.\u000b",
    "Try NOT to use FreqDist module.\n",
    "Keep the punctuation and stop words in this question.\n"
   ]
  },
  {
   "cell_type": "code",
   "execution_count": 10,
   "metadata": {
    "collapsed": true
   },
   "outputs": [],
   "source": [
    "import nltk"
   ]
  },
  {
   "cell_type": "code",
   "execution_count": 11,
   "metadata": {
    "collapsed": false
   },
   "outputs": [
    {
     "data": {
      "text/plain": [
       "['austen-emma.txt',\n",
       " 'austen-persuasion.txt',\n",
       " 'austen-sense.txt',\n",
       " 'bible-kjv.txt',\n",
       " 'blake-poems.txt',\n",
       " 'bryant-stories.txt',\n",
       " 'burgess-busterbrown.txt',\n",
       " 'carroll-alice.txt',\n",
       " 'chesterton-ball.txt',\n",
       " 'chesterton-brown.txt',\n",
       " 'chesterton-thursday.txt',\n",
       " 'edgeworth-parents.txt',\n",
       " 'melville-moby_dick.txt',\n",
       " 'milton-paradise.txt',\n",
       " 'shakespeare-caesar.txt',\n",
       " 'shakespeare-hamlet.txt',\n",
       " 'shakespeare-macbeth.txt',\n",
       " 'whitman-leaves.txt']"
      ]
     },
     "execution_count": 11,
     "metadata": {},
     "output_type": "execute_result"
    }
   ],
   "source": [
    "nltk.corpus.gutenberg.fileids()\n",
    "# importing gutenberg from nltk.corpus\n",
    "# gutenberg.fileids()"
   ]
  },
  {
   "cell_type": "code",
   "execution_count": 15,
   "metadata": {
    "collapsed": false
   },
   "outputs": [
    {
     "name": "stdout",
     "output_type": "stream",
     "text": [
      "Number Of Files = 18\n"
     ]
    }
   ],
   "source": [
    "NumberOfFiles=len(nltk.corpus.gutenberg.fileids())\n",
    "print(\"Number Of Files =\",NumberOfFiles)"
   ]
  },
  {
   "cell_type": "markdown",
   "metadata": {},
   "source": [
    "# Find out how many words and how many unique words in file 'austen-persuasion.txt'.\n"
   ]
  },
  {
   "cell_type": "code",
   "execution_count": 21,
   "metadata": {
    "collapsed": false
   },
   "outputs": [
    {
     "name": "stdout",
     "output_type": "stream",
     "text": [
      "Total words present in austen-persuasion 98171\n",
      "Unique words present in austen-persuasion are 10858\n"
     ]
    }
   ],
   "source": [
    "wordstring = nltk.corpus.gutenberg.words('austen-persuasion.txt')\n",
    "print(\"Total words present in austen-persuasion\",len(wordstring))\n",
    "rawWords=nltk.corpus.gutenberg.raw('austen-persuasion.txt')\n",
    "words= rawWords.split()\n",
    "uniqueWords= set(words)\n",
    "print(\"Unique words present in austen-persuasion are\",len(uniqueWords))"
   ]
  },
  {
   "cell_type": "markdown",
   "metadata": {},
   "source": [
    "# Calculate the frequency for each words and show the top 10 most frequent words and their frequency.\u000b"
   ]
  },
  {
   "cell_type": "code",
   "execution_count": 25,
   "metadata": {
    "collapsed": false
   },
   "outputs": [
    {
     "name": "stdout",
     "output_type": "stream",
     "text": [
      "Top 10 words and their frequencies are: \n"
     ]
    },
    {
     "data": {
      "text/plain": [
       "[('the', 3111),\n",
       " ('to', 2722),\n",
       " ('and', 2679),\n",
       " ('of', 2523),\n",
       " ('a', 1519),\n",
       " ('in', 1312),\n",
       " ('was', 1271),\n",
       " ('had', 1157),\n",
       " ('I', 986),\n",
       " ('her', 967)]"
      ]
     },
     "execution_count": 25,
     "metadata": {},
     "output_type": "execute_result"
    }
   ],
   "source": [
    "CountOfWords={}\n",
    "for word in words:\n",
    "    if word.isalpha():\n",
    "        if word  in CountOfWords:\n",
    "            CountOfWords[word] += 1\n",
    "        else:\n",
    "            CountOfWords[word] = 1\n",
    "sorted_words=sorted(CountOfWords.items(),key=lambda x: x[1], reverse=True)\n",
    "print(\"Top 10 words are: \")\n",
    "sorted_words[:10]"
   ]
  },
  {
   "cell_type": "code",
   "execution_count": null,
   "metadata": {
    "collapsed": true
   },
   "outputs": [],
   "source": []
  }
 ],
 "metadata": {
  "anaconda-cloud": {},
  "kernelspec": {
   "display_name": "Python 3",
   "language": "python",
   "name": "python3"
  },
  "language_info": {
   "codemirror_mode": {
    "name": "ipython",
    "version": 3
   },
   "file_extension": ".py",
   "mimetype": "text/x-python",
   "name": "python",
   "nbconvert_exporter": "python",
   "pygments_lexer": "ipython3",
   "version": "3.6.0"
  }
 },
 "nbformat": 4,
 "nbformat_minor": 1
}
