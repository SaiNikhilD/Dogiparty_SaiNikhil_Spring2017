{
 "cells": [
  {
   "cell_type": "markdown",
   "metadata": {},
   "source": [
    "# Question 2\n",
    "\n",
    "Under package Gutenberg get content from file 'melville-moby_dick.txt.' (HINT: Words? Raw?)\n",
    "Find out frequency of 26 characters. (Turn uppercase into lowercase and count as one character)\n",
    "List all 26 characters in order base on their frequency. (From most frequent to least frequent)\u000b",
    "Try NOT to use FreqDist module.\n"
   ]
  },
  {
   "cell_type": "code",
   "execution_count": 47,
   "metadata": {
    "collapsed": false
   },
   "outputs": [],
   "source": [
    "import nltk \n",
    "from nltk.corpus import gutenberg"
   ]
  },
  {
   "cell_type": "code",
   "execution_count": 48,
   "metadata": {
    "collapsed": true
   },
   "outputs": [],
   "source": [
    "file2=nltk.corpus.gutenberg.raw('melville-moby_dick.txt')"
   ]
  },
  {
   "cell_type": "code",
   "execution_count": 49,
   "metadata": {
    "collapsed": true
   },
   "outputs": [],
   "source": [
    "frequencyofcharacters=file2.lower()"
   ]
  },
  {
   "cell_type": "code",
   "execution_count": 50,
   "metadata": {
    "collapsed": true
   },
   "outputs": [],
   "source": [
    "import collections"
   ]
  },
  {
   "cell_type": "code",
   "execution_count": 56,
   "metadata": {
    "collapsed": true
   },
   "outputs": [],
   "source": [
    "numberOfLetters = collections.defaultdict(int)\n",
    "for letter in file2:\n",
    "    numberOfLetters[letter] += 1"
   ]
  },
  {
   "cell_type": "code",
   "execution_count": 57,
   "metadata": {
    "collapsed": false
   },
   "outputs": [
    {
     "data": {
      "text/plain": [
       "defaultdict(int,\n",
       "            {'\\n': 22924,\n",
       "             '\\r': 22924,\n",
       "             ' ': 198098,\n",
       "             '!': 1767,\n",
       "             '\"': 3071,\n",
       "             '$': 2,\n",
       "             '&': 2,\n",
       "             \"'\": 2922,\n",
       "             '(': 215,\n",
       "             ')': 215,\n",
       "             '*': 45,\n",
       "             ',': 19229,\n",
       "             '-': 5984,\n",
       "             '.': 7558,\n",
       "             '0': 131,\n",
       "             '1': 142,\n",
       "             '2': 60,\n",
       "             '3': 47,\n",
       "             '4': 39,\n",
       "             '5': 55,\n",
       "             '6': 37,\n",
       "             '7': 53,\n",
       "             '8': 59,\n",
       "             '9': 35,\n",
       "             ':': 196,\n",
       "             ';': 4173,\n",
       "             '?': 1004,\n",
       "             'A': 2650,\n",
       "             'B': 1426,\n",
       "             'C': 1147,\n",
       "             'D': 751,\n",
       "             'E': 1237,\n",
       "             'F': 804,\n",
       "             'G': 640,\n",
       "             'H': 1462,\n",
       "             'I': 3543,\n",
       "             'J': 253,\n",
       "             'K': 177,\n",
       "             'L': 900,\n",
       "             'M': 752,\n",
       "             'N': 1186,\n",
       "             'O': 988,\n",
       "             'P': 1048,\n",
       "             'Q': 322,\n",
       "             'R': 823,\n",
       "             'S': 2209,\n",
       "             'T': 2457,\n",
       "             'U': 240,\n",
       "             'V': 171,\n",
       "             'W': 1305,\n",
       "             'X': 23,\n",
       "             'Y': 330,\n",
       "             'Z': 38,\n",
       "             '[': 3,\n",
       "             ']': 3,\n",
       "             '_': 26,\n",
       "             'a': 75266,\n",
       "             'b': 15451,\n",
       "             'c': 21360,\n",
       "             'd': 37468,\n",
       "             'e': 115855,\n",
       "             'f': 20029,\n",
       "             'g': 20180,\n",
       "             'h': 61434,\n",
       "             'i': 61891,\n",
       "             'j': 829,\n",
       "             'k': 7882,\n",
       "             'l': 41893,\n",
       "             'm': 22525,\n",
       "             'n': 64431,\n",
       "             'o': 68338,\n",
       "             'p': 16207,\n",
       "             'q': 1234,\n",
       "             'r': 51311,\n",
       "             's': 62022,\n",
       "             't': 85539,\n",
       "             'u': 26457,\n",
       "             'v': 8427,\n",
       "             'w': 20917,\n",
       "             'x': 1007,\n",
       "             'y': 16542,\n",
       "             'z': 594})"
      ]
     },
     "execution_count": 57,
     "metadata": {},
     "output_type": "execute_result"
    }
   ],
   "source": [
    "numberOfLetters"
   ]
  },
  {
   "cell_type": "code",
   "execution_count": 58,
   "metadata": {
    "collapsed": true
   },
   "outputs": [],
   "source": [
    "numberOfLetters = collections.defaultdict(int)\n",
    "for letter in frequencyofcharacters:\n",
    "    numberOfLetters[letter] += 1"
   ]
  },
  {
   "cell_type": "code",
   "execution_count": 75,
   "metadata": {
    "collapsed": false
   },
   "outputs": [
    {
     "data": {
      "text/plain": [
       "defaultdict(int,\n",
       "            {'\\n': 22924,\n",
       "             '\\r': 22924,\n",
       "             ' ': 198098,\n",
       "             '!': 1767,\n",
       "             '\"': 3071,\n",
       "             '$': 2,\n",
       "             '&': 2,\n",
       "             \"'\": 2922,\n",
       "             '(': 215,\n",
       "             ')': 215,\n",
       "             '*': 45,\n",
       "             ',': 19229,\n",
       "             '-': 5984,\n",
       "             '.': 7558,\n",
       "             '0': 131,\n",
       "             '1': 142,\n",
       "             '2': 60,\n",
       "             '3': 47,\n",
       "             '4': 39,\n",
       "             '5': 55,\n",
       "             '6': 37,\n",
       "             '7': 53,\n",
       "             '8': 59,\n",
       "             '9': 35,\n",
       "             ':': 196,\n",
       "             ';': 4173,\n",
       "             '?': 1004,\n",
       "             '[': 3,\n",
       "             ']': 3,\n",
       "             '_': 26,\n",
       "             'a': 77916,\n",
       "             'b': 16877,\n",
       "             'c': 22507,\n",
       "             'd': 38219,\n",
       "             'e': 117092,\n",
       "             'f': 20833,\n",
       "             'g': 20820,\n",
       "             'h': 62896,\n",
       "             'i': 65434,\n",
       "             'j': 1082,\n",
       "             'k': 8059,\n",
       "             'l': 42793,\n",
       "             'm': 23277,\n",
       "             'n': 65617,\n",
       "             'o': 69326,\n",
       "             'p': 17255,\n",
       "             'q': 1556,\n",
       "             'r': 52134,\n",
       "             's': 64231,\n",
       "             't': 87996,\n",
       "             'u': 26697,\n",
       "             'v': 8598,\n",
       "             'w': 22222,\n",
       "             'x': 1030,\n",
       "             'y': 16872,\n",
       "             'z': 632})"
      ]
     },
     "execution_count": 75,
     "metadata": {},
     "output_type": "execute_result"
    }
   ],
   "source": [
    "numberOfLetters"
   ]
  },
  {
   "cell_type": "code",
   "execution_count": 76,
   "metadata": {
    "collapsed": false
   },
   "outputs": [],
   "source": [
    "from nltk.book import *"
   ]
  },
  {
   "cell_type": "code",
   "execution_count": 77,
   "metadata": {
    "collapsed": true
   },
   "outputs": [],
   "source": [
    "order=FreqDist(numberOfLetters)"
   ]
  },
  {
   "cell_type": "code",
   "execution_count": 78,
   "metadata": {
    "collapsed": false
   },
   "outputs": [
    {
     "data": {
      "text/plain": [
       "FreqDist({'\\n': 22924,\n",
       "          '\\r': 22924,\n",
       "          ' ': 198098,\n",
       "          '!': 1767,\n",
       "          '\"': 3071,\n",
       "          '$': 2,\n",
       "          '&': 2,\n",
       "          \"'\": 2922,\n",
       "          '(': 215,\n",
       "          ')': 215,\n",
       "          '*': 45,\n",
       "          ',': 19229,\n",
       "          '-': 5984,\n",
       "          '.': 7558,\n",
       "          '0': 131,\n",
       "          '1': 142,\n",
       "          '2': 60,\n",
       "          '3': 47,\n",
       "          '4': 39,\n",
       "          '5': 55,\n",
       "          '6': 37,\n",
       "          '7': 53,\n",
       "          '8': 59,\n",
       "          '9': 35,\n",
       "          ':': 196,\n",
       "          ';': 4173,\n",
       "          '?': 1004,\n",
       "          '[': 3,\n",
       "          ']': 3,\n",
       "          '_': 26,\n",
       "          'a': 77916,\n",
       "          'b': 16877,\n",
       "          'c': 22507,\n",
       "          'd': 38219,\n",
       "          'e': 117092,\n",
       "          'f': 20833,\n",
       "          'g': 20820,\n",
       "          'h': 62896,\n",
       "          'i': 65434,\n",
       "          'j': 1082,\n",
       "          'k': 8059,\n",
       "          'l': 42793,\n",
       "          'm': 23277,\n",
       "          'n': 65617,\n",
       "          'o': 69326,\n",
       "          'p': 17255,\n",
       "          'q': 1556,\n",
       "          'r': 52134,\n",
       "          's': 64231,\n",
       "          't': 87996,\n",
       "          'u': 26697,\n",
       "          'v': 8598,\n",
       "          'w': 22222,\n",
       "          'x': 1030,\n",
       "          'y': 16872,\n",
       "          'z': 632})"
      ]
     },
     "execution_count": 78,
     "metadata": {},
     "output_type": "execute_result"
    }
   ],
   "source": [
    "order"
   ]
  },
  {
   "cell_type": "code",
   "execution_count": 79,
   "metadata": {
    "collapsed": true
   },
   "outputs": [],
   "source": [
    "top=order.most_common()"
   ]
  },
  {
   "cell_type": "code",
   "execution_count": 80,
   "metadata": {
    "collapsed": false
   },
   "outputs": [
    {
     "data": {
      "text/plain": [
       "[(' ', 198098),\n",
       " ('e', 117092),\n",
       " ('t', 87996),\n",
       " ('a', 77916),\n",
       " ('o', 69326),\n",
       " ('n', 65617),\n",
       " ('i', 65434),\n",
       " ('s', 64231),\n",
       " ('h', 62896),\n",
       " ('r', 52134),\n",
       " ('l', 42793),\n",
       " ('d', 38219),\n",
       " ('u', 26697),\n",
       " ('m', 23277),\n",
       " ('\\r', 22924),\n",
       " ('\\n', 22924),\n",
       " ('c', 22507),\n",
       " ('w', 22222),\n",
       " ('f', 20833),\n",
       " ('g', 20820),\n",
       " (',', 19229),\n",
       " ('p', 17255),\n",
       " ('b', 16877),\n",
       " ('y', 16872),\n",
       " ('v', 8598),\n",
       " ('k', 8059),\n",
       " ('.', 7558),\n",
       " ('-', 5984),\n",
       " (';', 4173),\n",
       " ('\"', 3071),\n",
       " (\"'\", 2922),\n",
       " ('!', 1767),\n",
       " ('q', 1556),\n",
       " ('j', 1082),\n",
       " ('x', 1030),\n",
       " ('?', 1004),\n",
       " ('z', 632),\n",
       " ('(', 215),\n",
       " (')', 215),\n",
       " (':', 196),\n",
       " ('1', 142),\n",
       " ('0', 131),\n",
       " ('2', 60),\n",
       " ('8', 59),\n",
       " ('5', 55),\n",
       " ('7', 53),\n",
       " ('3', 47),\n",
       " ('*', 45),\n",
       " ('4', 39),\n",
       " ('6', 37),\n",
       " ('9', 35),\n",
       " ('_', 26),\n",
       " ('[', 3),\n",
       " (']', 3),\n",
       " ('$', 2),\n",
       " ('&', 2)]"
      ]
     },
     "execution_count": 80,
     "metadata": {},
     "output_type": "execute_result"
    }
   ],
   "source": [
    "top"
   ]
  },
  {
   "cell_type": "code",
   "execution_count": null,
   "metadata": {
    "collapsed": true
   },
   "outputs": [],
   "source": []
  }
 ],
 "metadata": {
  "anaconda-cloud": {},
  "kernelspec": {
   "display_name": "Python 3",
   "language": "python",
   "name": "python3"
  },
  "language_info": {
   "codemirror_mode": {
    "name": "ipython",
    "version": 3
   },
   "file_extension": ".py",
   "mimetype": "text/x-python",
   "name": "python",
   "nbconvert_exporter": "python",
   "pygments_lexer": "ipython3",
   "version": "3.6.0"
  }
 },
 "nbformat": 4,
 "nbformat_minor": 1
}
