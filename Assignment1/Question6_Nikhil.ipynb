{
 "cells": [
  {
   "cell_type": "markdown",
   "metadata": {
    "collapsed": true
   },
   "source": [
    "# Question 6\n",
    "\n",
    "Under Inaugural Address package\n",
    "For every president, find out how many unique words they used in speech. \n",
    "We will just assume that President Bush means one person (technically it is incorrect but we will ignore it)\n"
   ]
  },
  {
   "cell_type": "code",
   "execution_count": 12,
   "metadata": {
    "collapsed": true
   },
   "outputs": [],
   "source": [
    "import nltk #importing nltk package\n",
    "from nltk.corpus import inaugural"
   ]
  },
  {
   "cell_type": "code",
   "execution_count": 13,
   "metadata": {
    "collapsed": false,
    "scrolled": true
   },
   "outputs": [
    {
     "name": "stdout",
     "output_type": "stream",
     "text": [
      "['1789-Washington.txt', '1793-Washington.txt', '1797-Adams.txt', '1801-Jefferson.txt', '1805-Jefferson.txt', '1809-Madison.txt', '1813-Madison.txt', '1817-Monroe.txt', '1821-Monroe.txt', '1825-Adams.txt', '1829-Jackson.txt', '1833-Jackson.txt', '1837-VanBuren.txt', '1841-Harrison.txt', '1845-Polk.txt', '1849-Taylor.txt', '1853-Pierce.txt', '1857-Buchanan.txt', '1861-Lincoln.txt', '1865-Lincoln.txt', '1869-Grant.txt', '1873-Grant.txt', '1877-Hayes.txt', '1881-Garfield.txt', '1885-Cleveland.txt', '1889-Harrison.txt', '1893-Cleveland.txt', '1897-McKinley.txt', '1901-McKinley.txt', '1905-Roosevelt.txt', '1909-Taft.txt', '1913-Wilson.txt', '1917-Wilson.txt', '1921-Harding.txt', '1925-Coolidge.txt', '1929-Hoover.txt', '1933-Roosevelt.txt', '1937-Roosevelt.txt', '1941-Roosevelt.txt', '1945-Roosevelt.txt', '1949-Truman.txt', '1953-Eisenhower.txt', '1957-Eisenhower.txt', '1961-Kennedy.txt', '1965-Johnson.txt', '1969-Nixon.txt', '1973-Nixon.txt', '1977-Carter.txt', '1981-Reagan.txt', '1985-Reagan.txt', '1989-Bush.txt', '1993-Clinton.txt', '1997-Clinton.txt', '2001-Bush.txt', '2005-Bush.txt', '2009-Obama.txt']\n"
     ]
    }
   ],
   "source": [
    "filenames=inaugural.fileids()\n",
    "print(filenames)"
   ]
  },
  {
   "cell_type": "code",
   "execution_count": 19,
   "metadata": {
    "collapsed": false
   },
   "outputs": [
    {
     "name": "stdout",
     "output_type": "stream",
     "text": [
      "The name of the President and the unique number of words he has used in his speech:\n",
      "Washington 627\n",
      "Adams 1452\n",
      "Jefferson 1220\n",
      "Madison 875\n",
      "Monroe 1707\n",
      "Jackson 820\n",
      "VanBuren 1266\n",
      "Harrison 2602\n",
      "Polk 1282\n",
      "Taylor 484\n",
      "Pierce 1122\n",
      "Buchanan 901\n",
      "Lincoln 1205\n",
      "Grant 832\n",
      "Hayes 816\n",
      "Garfield 993\n",
      "Cleveland 1191\n",
      "McKinley 1600\n",
      "Roosevelt 1698\n",
      "Taft 1405\n",
      "Wilson 965\n",
      "Harding 1137\n",
      "Coolidge 1175\n",
      "Hoover 1027\n",
      "Truman 774\n",
      "Eisenhower 1234\n",
      "Kennedy 546\n",
      "Johnson 545\n",
      "Nixon 1065\n",
      "Carter 498\n",
      "Reagan 1418\n",
      "Bush 1542\n",
      "Clinton 1088\n",
      "Obama 912\n"
     ]
    }
   ],
   "source": [
    "a = inaugural.fileids() # All files in the inaugural module\n",
    "dic={} # Declaring a new dictionary\n",
    "def group_data(key,r): # Declaring a function that has key and value pair so that it can be called through the program\n",
    "    if key not in dic: \n",
    "        dic[key]=r\n",
    "    else:\n",
    "        v=dic[key] \n",
    "        dic[key]=v,r\n",
    "for i in a: \n",
    "    key=i[5:-4] \n",
    "    r=nltk.corpus.inaugural.raw(i) # To get the raw content of each president's speech\n",
    "    group_data(key,r)\n",
    "print(\"The name of the President and the unique number of words he has used in his speech:\")\n",
    "for key, value in dic.items():\n",
    "    n=str(value) # Since value is a tuple, we need to typcast it to a string\n",
    "    o=n.lower()\n",
    "    v=''.join(m for m in o if (m.isalpha() or m==\" \") ) # Validating if  alphabet or a space\n",
    "    spl=v.split() # Splitting words \n",
    "    t=set(spl)\n",
    "    print (key,len(t))"
   ]
  },
  {
   "cell_type": "code",
   "execution_count": null,
   "metadata": {
    "collapsed": true
   },
   "outputs": [],
   "source": []
  }
 ],
 "metadata": {
  "anaconda-cloud": {},
  "kernelspec": {
   "display_name": "Python 3",
   "language": "python",
   "name": "python3"
  },
  "language_info": {
   "codemirror_mode": {
    "name": "ipython",
    "version": 3
   },
   "file_extension": ".py",
   "mimetype": "text/x-python",
   "name": "python",
   "nbconvert_exporter": "python",
   "pygments_lexer": "ipython3",
   "version": "3.6.0"
  }
 },
 "nbformat": 4,
 "nbformat_minor": 1
}
