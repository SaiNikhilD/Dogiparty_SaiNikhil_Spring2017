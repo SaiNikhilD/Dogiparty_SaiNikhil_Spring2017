{
 "cells": [
  {
   "cell_type": "markdown",
   "metadata": {},
   "source": [
    "# Question 8\n",
    "\n",
    "Use nps_chat and wordlist corpus.\n",
    "If you find a word in nps_chat but not in wordlist, it is considered an unusual word. (e.g. Heyyyy, gr8, 4ever can be considered unusual words for this analysis)\n",
    "Find out how many unusual words people speak in chat (notice: usernames should not be counted)\n",
    "Bonus: What if I want to  count : ) , : ( all these emoticons in. (optional)\n"
   ]
  },
  {
   "cell_type": "code",
   "execution_count": 5,
   "metadata": {
    "collapsed": true
   },
   "outputs": [],
   "source": [
    "#importing nltk\n",
    "import nltk\n",
    "from nltk.corpus import nps_chat, words"
   ]
  },
  {
   "cell_type": "code",
   "execution_count": 8,
   "metadata": {
    "collapsed": false
   },
   "outputs": [
    {
     "name": "stdout",
     "output_type": "stream",
     "text": [
      "Words from nps_chat excluding the ones containing User 5274\n"
     ]
    }
   ],
   "source": [
    "#Words from nps_chat excluding the ones containing User\n",
    "fid=nps_chat.fileids()\n",
    "word_list=[]\n",
    "from xml.etree import ElementTree as ET\n",
    "for id in fid:\n",
    "    chat = nps_chat.raw(id)\n",
    "    my_xml = ET.fromstring(chat)\n",
    "    for child in my_xml.iter('t'):\n",
    "        word_list.append(child.get('word'))\n",
    "npschat_word_set=set()\n",
    "for word in word_list:\n",
    "    if 'User' not in word:\n",
    "        npschat_word_set.add(word.lower());\n",
    "print(\"Words from nps_chat excluding the ones containing User are\",len(npschat_word_set))"
   ]
  },
  {
   "cell_type": "code",
   "execution_count": 12,
   "metadata": {
    "collapsed": false
   },
   "outputs": [
    {
     "name": "stdout",
     "output_type": "stream",
     "text": [
      "words from WordsList 234377\n"
     ]
    }
   ],
   "source": [
    "# words from WordsList\n",
    "wid=nltk.corpus.words.fileids()\n",
    "wlist=[]\n",
    "for id in wid:\n",
    "    words=nltk.corpus.words.words(id)\n",
    "    for word in words:\n",
    "        wlist.append(word.lower())\n",
    "words_set=set(wlist)\n",
    "print(\"Words from WordsList\",len(words_set))"
   ]
  },
  {
   "cell_type": "code",
   "execution_count": 15,
   "metadata": {
    "collapsed": false
   },
   "outputs": [
    {
     "name": "stdout",
     "output_type": "stream",
     "text": [
      "Words not present in words-list 2698\n"
     ]
    }
   ],
   "source": [
    "# words not present in words-list\n",
    "final=set()\n",
    "for nps_chat in npschat_word_set:\n",
    "    if nps_chat not in words_set:\n",
    "        final.add(nps_chat)\n",
    "print(\"Words not present in words-list\",len(final))"
   ]
  },
  {
   "cell_type": "code",
   "execution_count": null,
   "metadata": {
    "collapsed": true
   },
   "outputs": [],
   "source": []
  }
 ],
 "metadata": {
  "kernelspec": {
   "display_name": "Python 3",
   "language": "python",
   "name": "python3"
  },
  "language_info": {
   "codemirror_mode": {
    "name": "ipython",
    "version": 3
   },
   "file_extension": ".py",
   "mimetype": "text/x-python",
   "name": "python",
   "nbconvert_exporter": "python",
   "pygments_lexer": "ipython3",
   "version": "3.6.0"
  }
 },
 "nbformat": 4,
 "nbformat_minor": 1
}
