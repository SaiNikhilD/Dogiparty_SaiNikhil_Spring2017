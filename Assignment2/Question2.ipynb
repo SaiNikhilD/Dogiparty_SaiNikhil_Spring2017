{
 "cells": [
  {
   "cell_type": "markdown",
   "metadata": {},
   "source": [
    "# Question 2\n",
    "\n",
    "# Part 1 \n",
    "\n",
    "Read all the json files in the folder called Data.  \n",
    "There are three categories of json files in this folder. They are identified by the key called “term” in each of the json file.  Create a folder structure to read all these json files and store them into these separate folders. You are expected to create a hierarchy of folder structure.  Example:  You can place all restaurants json files in a particular country (say Australia) in the same folder. How you group the json files and create a folder structure is your choice. Your task is to identify criteria by which you can group all these json files and store them.  (You could use these keys to create hierarchy and store json files: Country, city, categories)"
   ]
  },
  {
   "cell_type": "code",
   "execution_count": 10,
   "metadata": {
    "collapsed": true
   },
   "outputs": [],
   "source": [
    "#importing using single import command instead of mutiple\n",
    "import json, glob, os, csv, re, shutil"
   ]
  },
  {
   "cell_type": "code",
   "execution_count": 11,
   "metadata": {
    "collapsed": true
   },
   "outputs": [],
   "source": [
    "# creating a new folder called data processed and to access json files \n",
    "jpath ='Data/'                                \n",
    "dir_path = 'Data Processed/'                  \n",
    "os.makedirs(dir_path, exist_ok=True)          "
   ]
  },
  {
   "cell_type": "code",
   "execution_count": 33,
   "metadata": {
    "collapsed": false
   },
   "outputs": [],
   "source": [
    "#Loading json files \n",
    "jsonfiles=[j for j in os.listdir(jpath)]         \n",
    "\n",
    "for file in jsonfiles:                              \n",
    "    #creating folders and subfolders based on country and location\n",
    "    with open(os.path.join(jpath,file)) as json_file:\n",
    "        folders=json.load(json_file)\n",
    "        #folder structure based on countries and location\n",
    "        country = os.path.join(dir_path, folders['location']['country'])\n",
    "        \n",
    "        #country folder\n",
    "        os.makedirs(country, exist_ok=True)      \n",
    "        \n",
    "        city = os.path.join(country, folders['location']['city'])\n",
    "        #city folder\n",
    "        os.makedirs(city, exist_ok=True)        \n",
    "        \n",
    "        dynamicpath = os.path.join(city, folders['term'])\n",
    "        #term folder\n",
    "        os.makedirs(dynamicpath, exist_ok=True)         \n",
    "        #exception handling included\n",
    "        # should improve the performace of this program\n",
    "        try:\n",
    "            new_path = os.path.join(dynamicpath,folders['categories'][0]['title'] )\n",
    "            #category folder\n",
    "            os.makedirs(dynamicpath, exist_ok=True)     \n",
    "        except IndexError:\n",
    "            pass\n",
    "        #copying files command\n",
    "        shutil.copy(os.path.join(jpath,file), os.path.join(dynamicpath,file))    "
   ]
  },
  {
   "cell_type": "markdown",
   "metadata": {},
   "source": [
    "# Part 2\n",
    "\n",
    "Read all the json files in the folder called Data.  Read only the json files which contain the key called “restaurants”  Each (or most of the json files) contain a key called “open” which contains the details of the operation (timings) of the restaurants. For each json file, read the timings of the restaurants.  Data of the operation timings of the restaurants is present for each day of the week. I want you to extract each of this data and write it in an excel sheet.  "
   ]
  },
  {
   "cell_type": "code",
   "execution_count": 32,
   "metadata": {
    "collapsed": false
   },
   "outputs": [],
   "source": [
    "#creating a csv file at relative path\n",
    "#utf -8 encoded file to avoid encoding error\n",
    "jsonfiles=[j for j in os.listdir(jpath)]  \n",
    "with open(('restaurants.csv'), 'w',encoding='utf-8') as csvfile:\n",
    "    #printing header row\n",
    "    fieldnames = ['Name of the restaurant', 'City', 'Country Code','Day of Week','Start Time Hour','Start Time Minute','End Time Hour','End Time Minute']\n",
    "    csvwriter = csv.DictWriter(csvfile, fieldnames=fieldnames)\n",
    "    csvwriter.writeheader()\n",
    "\n",
    "    #To write data \n",
    "    for file in files:                                    \n",
    "        with open(os.path.join(jpath,file)) as json_file:\n",
    "            docs=json.load(json_file)\n",
    "            # to check if it contains restaurants\n",
    "            if docs['term'] in 'restaurants':  \n",
    "                #replacing - to avoid special characters in first column\n",
    "                #when not replaced garbage value gets printed\n",
    "                name=docs['id'].replace('-', ' ')\n",
    "                for i in range(0,23):     \n",
    "                    try: \n",
    "                        #splitted hours and minutes for bonus\n",
    "                        csvwriter.writerow({'Name of the restaurant':name, 'City':docs['location']['city'], 'Country Code':docs['location']['country'],'Day of Week':docs['hours'][0]['open'][i]['day'],'Start Time Hour':docs['hours'][0]['open'][i]['start'][:2],'Start Time Minute':docs['hours'][0]['open'][i]['start'][2:4],'End Time Hour':docs['hours'][0]['open'][i]['end'][:2],'End Time Minute':docs['hours'][0]['open'][i]['end'][2:4]})\n",
    "                    except (IndexError,KeyError):\n",
    "                        pass"
   ]
  },
  {
   "cell_type": "markdown",
   "metadata": {},
   "source": [
    "# Conclusion\n",
    "\n",
    "Data Processed folder contains hierarchy of json files.\n",
    "Splitted time into hours and minutes.\n",
    "Data from the json files can also be read and be easily converted to variables for usefull analysis."
   ]
  }
 ],
 "metadata": {
  "kernelspec": {
   "display_name": "Python 3",
   "language": "python",
   "name": "python3"
  },
  "language_info": {
   "codemirror_mode": {
    "name": "ipython",
    "version": 3
   },
   "file_extension": ".py",
   "mimetype": "text/x-python",
   "name": "python",
   "nbconvert_exporter": "python",
   "pygments_lexer": "ipython3",
   "version": "3.6.0"
  }
 },
 "nbformat": 4,
 "nbformat_minor": 2
}
