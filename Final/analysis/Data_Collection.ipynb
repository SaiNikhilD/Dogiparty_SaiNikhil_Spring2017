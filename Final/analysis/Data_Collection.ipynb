{
 "cells": [
  {
   "cell_type": "markdown",
   "metadata": {},
   "source": [
    "# Data Collection Using API"
   ]
  },
  {
   "cell_type": "markdown",
   "metadata": {},
   "source": [
    "API Used - quandl\n",
    "\n",
    "API_KEY added in the environmental variables"
   ]
  },
  {
   "cell_type": "code",
   "execution_count": 14,
   "metadata": {
    "collapsed": false
   },
   "outputs": [],
   "source": [
    "#Importing all the necessary libarires for Data Collection\n",
    "#AS per the guidelines used requests to hit the API and not ready to use libraries  \n",
    "import csv\n",
    "import requests\n",
    "import os.path          \n"
   ]
  },
  {
   "cell_type": "code",
   "execution_count": 15,
   "metadata": {
    "collapsed": true
   },
   "outputs": [],
   "source": [
    "#API key set from environmental variables to quandl_api_key -  My API key rZ-m4b6uUbnFG1Dsp9L1\n",
    "quandl_api_key=os.getenv('auth_key')\n",
    "param ={'api_key': quandl_api_key}"
   ]
  },
  {
   "cell_type": "code",
   "execution_count": 16,
   "metadata": {
    "collapsed": true
   },
   "outputs": [],
   "source": [
    "# API used\n",
    "csv_new1='https://www.quandl.com/api/v3/datasets/WIKI/'\n",
    "csv_new2='/data.csv?'\n",
    "shares = {'YHOO','GOOGL','FB','AMZN','DELL','MSFT','IBM','AAPL','CSCO','HPQ','HPE','F','GM','UPS','FDX','LUV','KO','MCD','PEP','MDLZ','K','CL','WMT','WBA','JPM','AIG','WFC','BAC','C','GS'}\n"
   ]
  },
  {
   "cell_type": "markdown",
   "metadata": {},
   "source": [
    "Used for each to save all the shares in seperate files to make data analysis easy and also creating a master data set with all the shares in the MasterDataSet.csv"
   ]
  },
  {
   "cell_type": "code",
   "execution_count": 17,
   "metadata": {
    "collapsed": false
   },
   "outputs": [],
   "source": [
    "for each in shares:\n",
    "    with requests.Session() as s:\n",
    "        csvdynamic=csv_new1+each+csv_new2\n",
    "        download = s.get(csvdynamic, params=param)\n",
    "        decoded_content = download.content.decode('utf-8')\n",
    "        with open('/data/'+each+'.csv', 'a') as temp_file:\n",
    "            temp_file.writelines(decoded_content)\n",
    "        with open('/data/MasterDataSet.csv', 'a') as masterfile: \n",
    "            masterfile.writelines(decoded_content)"
   ]
  },
  {
   "cell_type": "code",
   "execution_count": null,
   "metadata": {
    "collapsed": true
   },
   "outputs": [],
   "source": []
  }
 ],
 "metadata": {
  "kernelspec": {
   "display_name": "Python 3",
   "language": "python",
   "name": "python3"
  },
  "language_info": {
   "codemirror_mode": {
    "name": "ipython",
    "version": 3
   },
   "file_extension": ".py",
   "mimetype": "text/x-python",
   "name": "python",
   "nbconvert_exporter": "python",
   "pygments_lexer": "ipython3",
   "version": "3.6.0"
  }
 },
 "nbformat": 4,
 "nbformat_minor": 2
}
