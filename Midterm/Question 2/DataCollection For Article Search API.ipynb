{
 "cells": [
  {
   "cell_type": "code",
   "execution_count": 2,
   "metadata": {
    "collapsed": true
   },
   "outputs": [],
   "source": [
    "import requests\n",
    "import json"
   ]
  },
  {
   "cell_type": "code",
   "execution_count": 3,
   "metadata": {
    "collapsed": true
   },
   "outputs": [],
   "source": [
    "param = {'api_key': '960bd33f6a66462f91b7b44fb2a144fc'}\n",
    "base_url = 'https://api.nytimes.com/svc/search/v2/articlesearch.json?'"
   ]
  },
  {
   "cell_type": "code",
   "execution_count": 4,
   "metadata": {
    "collapsed": true
   },
   "outputs": [],
   "source": [
    "tvseries = {'breakingbad','californication','cheers','daredevil','dexter','doctor who','downtown_abbey','got','homeland','houseofcards'}"
   ]
  },
  {
   "cell_type": "code",
   "execution_count": 5,
   "metadata": {
    "collapsed": true
   },
   "outputs": [],
   "source": [
    "for each in tvseries:\n",
    "    base_url = 'https://api.nytimes.com/svc/search/v2/articlesearch.json?'\n",
    "    param['q'] = each\n",
    "    content = requests.get(base_url, params=param)\n",
    "    d = (json.loads(content.text))\n",
    "    data=  each + '.json'\n",
    "    with open(data, 'w') as f:\n",
    "        json.dump(d, f)"
   ]
  },
  {
   "cell_type": "code",
   "execution_count": null,
   "metadata": {
    "collapsed": true
   },
   "outputs": [],
   "source": []
  }
 ],
 "metadata": {
  "kernelspec": {
   "display_name": "Python 3",
   "language": "python",
   "name": "python3"
  },
  "language_info": {
   "codemirror_mode": {
    "name": "ipython",
    "version": 3
   },
   "file_extension": ".py",
   "mimetype": "text/x-python",
   "name": "python",
   "nbconvert_exporter": "python",
   "pygments_lexer": "ipython3",
   "version": "3.6.0"
  }
 },
 "nbformat": 4,
 "nbformat_minor": 2
}
