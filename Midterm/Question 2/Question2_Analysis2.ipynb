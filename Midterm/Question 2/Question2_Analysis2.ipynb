{
 "cells": [
  {
   "cell_type": "markdown",
   "metadata": {
    "collapsed": true
   },
   "source": [
    "# Analysis 2\n",
    "\n",
    "To print list of keywords in descending order of their frequency"
   ]
  },
  {
   "cell_type": "code",
   "execution_count": 41,
   "metadata": {
    "collapsed": false
   },
   "outputs": [],
   "source": [
    "import json,codecs,glob\n",
    "\n",
    "\n",
    "#relative file path\n",
    "jsonfiles=glob.glob('Data/*.json')   \n",
    "mostusedkeywords = []\n",
    "\n",
    "for inputfile in jsonfiles:     \n",
    "    \n",
    "    data_file = codecs.open(inputfile, 'r', encoding='utf8',errors='ignore')\n",
    "    data = json.load(data_file)\n",
    "    docs = data[\"response\"][\"docs\"]\n",
    "    for doc in docs:\n",
    "        mostusedkeywords.append(doc[\"keywords\"])\n",
    "        \n",
    "#to make it hashable\n",
    "hashValues = [val['value'] for list in mostusedkeywords for val in list]\n",
    "        \n",
    "def freq_keywords(keywords):\n",
    "    freqKeywords = {}\n",
    "    for word in keywords:\n",
    "        if word not in freqKeywords:\n",
    "            freqKeywords[word] = 1\n",
    "        else:\n",
    "            freqKeywords[word] += 1\n",
    "    return freqKeywords"
   ]
  },
  {
   "cell_type": "code",
   "execution_count": 42,
   "metadata": {
    "collapsed": false
   },
   "outputs": [
    {
     "name": "stdout",
     "output_type": "stream",
     "text": [
      "The top 10 highest frequency words used in all JSON files are :\n"
     ]
    },
    {
     "data": {
      "text/plain": [
       "[('Presidential Election of 2016', 1350),\n",
       " ('Trump, Donald J', 536),\n",
       " ('Books and Literature', 466),\n",
       " ('Movies', 456),\n",
       " ('Republican Party', 438),\n",
       " ('United States Politics and Government', 428),\n",
       " ('Music', 423),\n",
       " ('New York City', 417),\n",
       " ('Iowa', 400),\n",
       " ('Television', 383)]"
      ]
     },
     "execution_count": 42,
     "metadata": {},
     "output_type": "execute_result"
    }
   ],
   "source": [
    "keyword_freq = freq_keywords(hashValues)\n",
    "\n",
    "sortedlist = sorted(keyword_freq.items(), key = lambda x:x[1], reverse = True)\n",
    "print('The top 10 highest frequency words used in all JSON files are :')\n",
    "sortedlist[:10]"
   ]
  },
  {
   "cell_type": "code",
   "execution_count": null,
   "metadata": {
    "collapsed": true
   },
   "outputs": [],
   "source": []
  }
 ],
 "metadata": {
  "anaconda-cloud": {},
  "kernelspec": {
   "display_name": "Python 3",
   "language": "python",
   "name": "python3"
  },
  "language_info": {
   "codemirror_mode": {
    "name": "ipython",
    "version": 3
   },
   "file_extension": ".py",
   "mimetype": "text/x-python",
   "name": "python",
   "nbconvert_exporter": "python",
   "pygments_lexer": "ipython3",
   "version": "3.6.0"
  }
 },
 "nbformat": 4,
 "nbformat_minor": 1
}
