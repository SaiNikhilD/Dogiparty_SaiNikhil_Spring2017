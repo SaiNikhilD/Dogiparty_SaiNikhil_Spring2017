{
 "cells": [
  {
   "cell_type": "markdown",
   "metadata": {},
   "source": [
    "# Question 1 Analysis\n",
    "\n",
    "The analysis has been done on Chairman's mails\n",
    "\n",
    "Analysis 1 and Conclusion - The number of mails sent by the chairman has decreased yearly which tells us that the company has lost its market slowly, there are only two years mail in the dataset. If more emails are present a similar trend would have been visualized.\n",
    "\n",
    "Analysis 2 and Conclusion - Stored data of the emailid's to whom the chairman sent mails in the highest frequency decending order in a csv. This csv can be used to used to do further investigation of highest frequency mails to get further information about scandal\n",
    "\n",
    "Analysis 3 and Conclusion - Which hour of the day the freuquency of the mails is maximum to do further investigation of mails sent outside office hours.\n"
   ]
  },
  {
   "cell_type": "markdown",
   "metadata": {},
   "source": [
    "# Question 1 Analysis\n",
    "The analysis has been done on Chairman's mails\n",
    "Analysis 1 and Conclusion - The number of mails sent by the chairman has decreased yearly which tells us that the company has lost its market slowly, there are only two years mail in the dataset. If more emails are present a similar trend would have been visualized.\n",
    "Analysis 2 and Conclusion - Stored data of the emailid's to whom the chairman sent mails in the highest frequency decending order in a csv. This csv can be used to used to do further investigation of highest frequency mails to get further information about scandal\n",
    "Analysis 3 and Conclusion - Which hour of the day the freuquency of the mails is maximum to do further investigation of mails sent outside office hours."
   ]
  }
 ],
 "metadata": {
  "kernelspec": {
   "display_name": "Python 3",
   "language": "python",
   "name": "python3"
  },
  "language_info": {
   "codemirror_mode": {
    "name": "ipython",
    "version": 3
   },
   "file_extension": ".py",
   "mimetype": "text/x-python",
   "name": "python",
   "nbconvert_exporter": "python",
   "pygments_lexer": "ipython3",
   "version": "3.6.0"
  }
 },
 "nbformat": 4,
 "nbformat_minor": 2
}
