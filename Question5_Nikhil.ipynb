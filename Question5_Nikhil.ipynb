{
 "cells": [
  {
   "cell_type": "markdown",
   "metadata": {},
   "source": [
    "# Question 5\n",
    "\n",
    "Use Gutenberg and Web_text data. Find out what are the top 5 words that Shakespeare used but we do not use in currently.\n",
    "Take top 50 words from Shakespeare (all 3 books) and top 50 from Web_text (all the records).\n",
    "Remove punctuation and stop words.\n",
    "Remove the words we still use today, and get the unused list. Show the top 5 elements. \n"
   ]
  },
  {
   "cell_type": "code",
   "execution_count": 19,
   "metadata": {
    "collapsed": true
   },
   "outputs": [],
   "source": [
    "#importing packages\n",
    "import nltk \n",
    "from nltk.corpus import gutenberg, webtext, stopwords"
   ]
  },
  {
   "cell_type": "code",
   "execution_count": 20,
   "metadata": {
    "collapsed": false
   },
   "outputs": [
    {
     "data": {
      "text/plain": [
       "37032"
      ]
     },
     "execution_count": 20,
     "metadata": {},
     "output_type": "execute_result"
    }
   ],
   "source": [
    "files= gutenberg.fileids()\n",
    "stopwords=stopwords.words('english')\n",
    "#total count of words in all 3 shakespeare files\n",
    "shakespeare_wordcount=[]\n",
    "for file in files:\n",
    "    if file.startswith('shakespeare'):\n",
    "        for word in gutenberg.words(file):\n",
    "            if word.isalpha():\n",
    "                if word.lower() not in stopwords:\n",
    "                    shakespeare_wordcount.append(word)\n",
    "len(shakespeare_words)\n"
   ]
  },
  {
   "cell_type": "code",
   "execution_count": 21,
   "metadata": {
    "collapsed": false
   },
   "outputs": [
    {
     "name": "stdout",
     "output_type": "stream",
     "text": [
      "[('haue', 406), ('Ham', 337), ('Lord', 293), ('shall', 259), ('thou', 256), ('King', 231), ('Enter', 225), ('Caesar', 192), ('vs', 183), ('thy', 175), ('thee', 174), ('know', 169), ('good', 165), ('Brutus', 162), ('Bru', 153), ('come', 151), ('would', 142), ('like', 142), ('selfe', 139), ('Macb', 137), ('man', 132), ('vpon', 126), ('well', 126), ('let', 122), ('may', 121), ('must', 116), ('hath', 115), ('say', 113), ('st', 110), ('th', 108), ('Cassi', 107), ('Ile', 106), ('yet', 104), ('see', 104), ('time', 103), ('make', 102), ('one', 101), ('heere', 100), ('speake', 100), ('Hamlet', 99), ('Let', 95), ('Hor', 95), ('vp', 91), ('Sir', 89), ('doe', 89), ('men', 87), ('mine', 86), ('Cassius', 85), ('much', 83), ('loue', 81)]\n"
     ]
    }
   ],
   "source": [
    "#top 50 most frequently used  words\n",
    "most_words={}\n",
    "for x in shakespeare_wordcount:\n",
    "    if x not in most_words:\n",
    "        most_words[x]=1\n",
    "    else:\n",
    "        most_words[x] +=1\n",
    "sorted_words=sorted(most_words.items(), key=lambda x: x[1], reverse=True)\n",
    "sorted_top50=sorted_words[0:50]\n",
    "print(sorted_top50)\n"
   ]
  },
  {
   "cell_type": "code",
   "execution_count": 22,
   "metadata": {
    "collapsed": false
   },
   "outputs": [
    {
     "name": "stdout",
     "output_type": "stream",
     "text": [
      "['Cookie', 'Manager', ':', '\"', 'Don', \"'\", 't', 'allow', 'sites', 'that']\n"
     ]
    }
   ],
   "source": [
    "#all words  webtext\n",
    "all_words=webtext.words()\n",
    "print(all_words[0:10])"
   ]
  },
  {
   "cell_type": "code",
   "execution_count": 23,
   "metadata": {
    "collapsed": false
   },
   "outputs": [
    {
     "name": "stdout",
     "output_type": "stream",
     "text": [
      "Top 5 not used words are:\n",
      "['haue', 'Ham', 'Brutus', 'Bru', 'selfe']\n"
     ]
    }
   ],
   "source": [
    "#top 5  words not used \n",
    "new_words=[]\n",
    "for x in sorted_top50:\n",
    "    if x[0] not in set(all_words):\n",
    "        new_words.append(x[0])  \n",
    "print(\"Top 5 not used words are:\")\n",
    "print(new_words[0:5])"
   ]
  },
  {
   "cell_type": "code",
   "execution_count": null,
   "metadata": {
    "collapsed": true
   },
   "outputs": [],
   "source": []
  }
 ],
 "metadata": {
  "kernelspec": {
   "display_name": "Python 3",
   "language": "python",
   "name": "python3"
  },
  "language_info": {
   "codemirror_mode": {
    "name": "ipython",
    "version": 3
   },
   "file_extension": ".py",
   "mimetype": "text/x-python",
   "name": "python",
   "nbconvert_exporter": "python",
   "pygments_lexer": "ipython3",
   "version": "3.6.0"
  }
 },
 "nbformat": 4,
 "nbformat_minor": 1
}
